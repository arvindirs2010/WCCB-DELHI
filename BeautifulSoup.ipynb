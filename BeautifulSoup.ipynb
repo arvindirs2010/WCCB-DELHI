{
  "nbformat": 4,
  "nbformat_minor": 0,
  "metadata": {
    "colab": {
      "provenance": [],
      "authorship_tag": "ABX9TyOqkdoDblm7IMm0Dt6r7QMg",
      "include_colab_link": true
    },
    "kernelspec": {
      "name": "python3",
      "display_name": "Python 3"
    },
    "language_info": {
      "name": "python"
    }
  },
  "cells": [
    {
      "cell_type": "markdown",
      "metadata": {
        "id": "view-in-github",
        "colab_type": "text"
      },
      "source": [
        "<a href=\"https://colab.research.google.com/github/arvindirs2010/WCCB-DELHI/blob/main/BeautifulSoup.ipynb\" target=\"_parent\"><img src=\"https://colab.research.google.com/assets/colab-badge.svg\" alt=\"Open In Colab\"/></a>"
      ]
    },
    {
      "cell_type": "code",
      "source": [
        "pip install requests"
      ],
      "metadata": {
        "id": "CU2z3feLAeEB"
      },
      "execution_count": null,
      "outputs": []
    },
    {
      "cell_type": "code",
      "source": [
        "pip install BeautifulSoup4"
      ],
      "metadata": {
        "id": "CwJE_I9MAjU6"
      },
      "execution_count": null,
      "outputs": []
    },
    {
      "cell_type": "code",
      "source": [
        "import requests"
      ],
      "metadata": {
        "id": "MfQTBKuWBNJQ"
      },
      "execution_count": 9,
      "outputs": []
    },
    {
      "cell_type": "code",
      "source": [
        "from bs4 import BeautifulSoup as bs"
      ],
      "metadata": {
        "id": "PbIRGU15E6Pj"
      },
      "execution_count": 21,
      "outputs": []
    },
    {
      "cell_type": "code",
      "source": [
        "link = \"https://www.amazon.in/product-reviews/B09G9FPGTN\""
      ],
      "metadata": {
        "id": "Jh_h81-pBQIE"
      },
      "execution_count": 10,
      "outputs": []
    },
    {
      "cell_type": "code",
      "source": [
        "page = requests.get(link)"
      ],
      "metadata": {
        "id": "DaYjJs5eBTs2"
      },
      "execution_count": 11,
      "outputs": []
    },
    {
      "cell_type": "code",
      "source": [
        "# print(page)"
      ],
      "metadata": {
        "colab": {
          "base_uri": "https://localhost:8080/"
        },
        "id": "hhTq1DEEBbVF",
        "outputId": "7c0d0c0c-0d93-4d1c-f842-a5d9db6f02e6"
      },
      "execution_count": 12,
      "outputs": [
        {
          "output_type": "stream",
          "name": "stdout",
          "text": [
            "<Response [200]>\n"
          ]
        }
      ]
    },
    {
      "cell_type": "code",
      "source": [
        "print(page.content)"
      ],
      "metadata": {
        "id": "KDKDFmvVB4zt"
      },
      "execution_count": null,
      "outputs": []
    },
    {
      "cell_type": "code",
      "source": [
        "abc = bs(page.content, 'html.parser')\n",
        "# print(abc.prettify())"
      ],
      "metadata": {
        "id": "DVDA68MkFD32"
      },
      "execution_count": null,
      "outputs": []
    },
    {
      "cell_type": "code",
      "source": [
        "review_names = abc.find_all('span', class_=\"a-profile-name\")"
      ],
      "metadata": {
        "id": "7A_yAhQtHCBx"
      },
      "execution_count": 24,
      "outputs": []
    },
    {
      "cell_type": "code",
      "source": [
        "# print(review_names)"
      ],
      "metadata": {
        "id": "oFsKM44fGorb"
      },
      "execution_count": null,
      "outputs": []
    },
    {
      "cell_type": "code",
      "source": [
        "cust_names = []\n",
        "for i in range(0, len(review_names)):\n",
        "  cust_names.append(review_names[i].get_text())\n",
        "# print(cust_names)\n",
        "# print(cust_names.pop(8))\n",
        "# print(cust_names)"
      ],
      "metadata": {
        "id": "c8EioC90Kvi3"
      },
      "execution_count": null,
      "outputs": []
    },
    {
      "cell_type": "code",
      "source": [
        "review_content = abc.find_all('span', class_=\"a-size-base\")"
      ],
      "metadata": {
        "id": "EsDcdy90QMaq"
      },
      "execution_count": 31,
      "outputs": []
    },
    {
      "cell_type": "code",
      "source": [
        "# print(review_content)"
      ],
      "metadata": {
        "id": "Q205eNpzQjwa"
      },
      "execution_count": null,
      "outputs": []
    },
    {
      "cell_type": "code",
      "source": [
        "review_text = []\n",
        "for i in range(0, len(review_content)):\n",
        "  review_text.append(review_content[i].get_text())\n",
        "  print(review_text)\n"
      ],
      "metadata": {
        "id": "G8Ob2mImQ7HW"
      },
      "execution_count": null,
      "outputs": []
    }
  ]
}